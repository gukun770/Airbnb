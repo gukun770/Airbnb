{
 "cells": [
  {
   "cell_type": "code",
   "execution_count": 1,
   "metadata": {},
   "outputs": [],
   "source": [
    "%load_ext autoreload\n",
    "%autoreload 2"
   ]
  },
  {
   "cell_type": "code",
   "execution_count": 2,
   "metadata": {},
   "outputs": [],
   "source": [
    "# from feature_importance import *\n",
    "from helper import *\n",
    "import function as F\n",
    "from airbnbclass import *"
   ]
  },
  {
   "cell_type": "code",
   "execution_count": 3,
   "metadata": {},
   "outputs": [],
   "source": [
    "from sklearn.ensemble import RandomForestRegressor\n",
    "import matplotlib.pyplot as plt\n",
    "from IPython.display import set_matplotlib_formats\n",
    "set_matplotlib_formats('retina')\n",
    "plt.style.use('ggplot')\n",
    "\n",
    "%matplotlib inline"
   ]
  },
  {
   "cell_type": "code",
   "execution_count": 4,
   "metadata": {},
   "outputs": [],
   "source": [
    "pd.set_option(\"display.max_colwidth\",200)\n",
    "pd.set_option(\"display.max_rows\",999)\n",
    "pd.set_option(\"display.max_columns\",999)"
   ]
  },
  {
   "cell_type": "markdown",
   "metadata": {},
   "source": [
    "## Load Data"
   ]
  },
  {
   "cell_type": "code",
   "execution_count": 5,
   "metadata": {},
   "outputs": [],
   "source": [
    "columns = ['id','price','availability_30','availability_60','reviews_per_month',\n",
    "'number_of_reviews','last_review','host_since','minimum_nights',\n",
    "'room_type','host_response_time', 'host_is_superhost',\n",
    "'review_scores_rating','property_type', \n",
    "'neighbourhood_cleansed','bedrooms',\n",
    "'calculated_host_listings_count','host_identity_verified',\n",
    "'cleaning_fee','last_scraped','latitude','longitude','beds',\n",
    "'cancellation_policy','access','description','notes','transit',\n",
    "'instant_bookable','extra_people','maximum_nights','house_rules',\n",
    "#            'calendar_updated',\n",
    "]"
   ]
  },
  {
   "cell_type": "code",
   "execution_count": 32,
   "metadata": {},
   "outputs": [],
   "source": [
    "sf = Airbnb()"
   ]
  },
  {
   "cell_type": "code",
   "execution_count": 33,
   "metadata": {
    "scrolled": true
   },
   "outputs": [
    {
     "name": "stdout",
     "output_type": "stream",
     "text": [
      "Reading: /Users/Alex/Documents/10_galvanize/galvanize/capstone/dsi-project-proposals/project/data/listings20170802.csv...\n",
      "reviews20170802.csv\n",
      "(13831, 37)\n",
      "Reading: /Users/Alex/Documents/10_galvanize/galvanize/capstone/dsi-project-proposals/project/data/listings20180110.csv...\n",
      "reviews20180110.csv\n",
      "(20337, 37)\n",
      "Reading: /Users/Alex/Documents/10_galvanize/galvanize/capstone/dsi-project-proposals/project/data/listings20180304.csv...\n",
      "reviews20180304.csv\n",
      "(25141, 37)\n",
      "Reading: /Users/Alex/Documents/10_galvanize/galvanize/capstone/dsi-project-proposals/project/data/listings20171101.csv...\n",
      "reviews20171101.csv\n",
      "(34070, 37)\n",
      "Reading: /Users/Alex/Documents/10_galvanize/galvanize/capstone/dsi-project-proposals/project/data/listings20180202.csv...\n",
      "reviews20180202.csv\n",
      "(38797, 37)\n",
      "Reading: /Users/Alex/Documents/10_galvanize/galvanize/capstone/dsi-project-proposals/project/data/listings20180406.csv...\n",
      "reviews20180406.csv\n",
      "(43641, 37)\n",
      "Reading: /Users/Alex/Documents/10_galvanize/galvanize/capstone/dsi-project-proposals/project/data/listings20171202.csv...\n",
      "reviews20171202.csv\n",
      "(50581, 37)\n",
      "Reading: /Users/Alex/Documents/10_galvanize/galvanize/capstone/dsi-project-proposals/project/data/listings20170902.csv...\n",
      "reviews20170902.csv\n",
      "(59110, 37)\n",
      "Reading: /Users/Alex/Documents/10_galvanize/galvanize/capstone/dsi-project-proposals/project/data/listings20171002.csv...\n",
      "reviews20171002.csv\n",
      "(68043, 37)\n",
      "Reading: /Users/Alex/Documents/10_galvanize/galvanize/capstone/dsi-project-proposals/project/data/listings20170702.csv...\n",
      "reviews20170702.csv\n",
      "(76898, 37)\n",
      "Reading: /Users/Alex/Documents/10_galvanize/galvanize/capstone/dsi-project-proposals/project/data/listings20170602.csv...\n",
      "reviews20170602.csv\n",
      "(85697, 37)\n"
     ]
    }
   ],
   "source": [
    "listings = sf.load_data(columns_used=columns)"
   ]
  },
  {
   "cell_type": "code",
   "execution_count": 34,
   "metadata": {},
   "outputs": [],
   "source": [
    "listings = sf.clean_data(listings)"
   ]
  },
  {
   "cell_type": "code",
   "execution_count": 35,
   "metadata": {},
   "outputs": [
    {
     "name": "stdout",
     "output_type": "stream",
     "text": [
      "Filter 1: 9032, i.e. 10.54% listings removed.\n",
      "\n",
      "FIlter 2 : 12879, i.e.15.03% listings removed.\n",
      "\n",
      "23472 of listings to check\n",
      "Remove 22716 listings. 96.78% of listings checked.  \n",
      "\n",
      "2432 of listings to check\n",
      "Remove 1926 listings. 79.19% of listings checked.  \n",
      "\n",
      "2461 of listings to check\n",
      "Remove 1676 listings. 68.10% of listings checked.  \n",
      "\n",
      "2469 of listings to check\n",
      "Remove 1531 listings. 62.01% of listings checked.  \n",
      "\n",
      "2451 of listings to check\n",
      "Remove 1566 listings. 63.89% of listings checked.  \n",
      "\n",
      "2262 of listings to check\n",
      "Remove 1194 listings. 52.79% of listings checked.  \n",
      "\n",
      "2150 of listings to check\n",
      "Remove 1029 listings. 47.86% of listings checked.  \n",
      "\n",
      "1960 of listings to check\n",
      "Remove 921 listings. 46.99% of listings checked.  \n",
      "\n",
      "1947 of listings to check\n",
      "Remove 828 listings. 42.53% of listings checked.  \n",
      "\n",
      "1664 of listings to check\n",
      "Remove 512 listings. 30.77% of listings checked.  \n",
      "\n",
      "1570 of listings to check\n",
      "Remove 499 listings. 31.78% of listings checked.  \n",
      "\n",
      "1404 of listings to check\n",
      "Remove 310 listings. 22.08% of listings checked.  \n",
      "\n",
      "1299 of listings to check\n",
      "Remove 212 listings. 16.32% of listings checked.  \n",
      "\n",
      "1327 of listings to check\n",
      "Remove 118 listings. 8.89% of listings checked.  \n",
      "\n",
      "FIlter 3 : 35038, i.e.40.89% listings removed.\n",
      "\n"
     ]
    }
   ],
   "source": [
    "listings = sf.filter_data(listings)"
   ]
  },
  {
   "cell_type": "code",
   "execution_count": 36,
   "metadata": {},
   "outputs": [
    {
     "data": {
      "image/png": "[encoded data removed]",
      "text/plain": [
       "<matplotlib.figure.Figure at 0x1a3cafc358>"
      ]
     },
     "metadata": {
      "image/png": {
       "height": 250,
       "width": 606
      }
     },
     "output_type": "display_data"
    }
   ],
   "source": [
    "fig, ax1 = plt.subplots(1,1,figsize=(10,4))\n",
    "ax1.hist(listings.availability_30.values, bins=30, label='available days',alpha=.8)\n",
    "ax1.legend();"
   ]
  },
  {
   "cell_type": "code",
   "execution_count": 37,
   "metadata": {},
   "outputs": [],
   "source": [
    "listings = sf.feature_engineer(listings)"
   ]
  },
  {
   "cell_type": "code",
   "execution_count": 38,
   "metadata": {},
   "outputs": [],
   "source": [
    "# listings = listings.reset_index()"
   ]
  },
  {
   "cell_type": "code",
   "execution_count": 39,
   "metadata": {},
   "outputs": [],
   "source": [
    "# listings, sf.notes = sf.train_text_topic_weight(listings, 'notes', 5)\n",
    "# listings, sf.transit = sf.train_text_topic_weight(listings, 'transit', 5)"
   ]
  },
  {
   "cell_type": "code",
   "execution_count": 40,
   "metadata": {},
   "outputs": [],
   "source": [
    "X_train, X_test, y_train, y_test = sf.my_train_test_split(listings, 0.7)"
   ]
  },
  {
   "cell_type": "code",
   "execution_count": 41,
   "metadata": {},
   "outputs": [],
   "source": [
    "rf = RandomForestRegressor(n_estimators=50)"
   ]
  },
  {
   "cell_type": "code",
   "execution_count": 42,
   "metadata": {
    "scrolled": false
   },
   "outputs": [],
   "source": [
    "sf.train_model(rf,X_train,y_train)"
   ]
  },
  {
   "cell_type": "code",
   "execution_count": 43,
   "metadata": {
    "scrolled": false
   },
   "outputs": [
    {
     "name": "stdout",
     "output_type": "stream",
     "text": [
      "5.2742866941\n",
      "0.416194907314\n"
     ]
    }
   ],
   "source": [
    "sf.evaluate_model(X_test,y_test, f_importance=True)"
   ]
  },
  {
   "cell_type": "markdown",
   "metadata": {},
   "source": [
    "`5.28651528879\n",
    "0.403916071711`"
   ]
  },
  {
   "cell_type": "code",
   "execution_count": 44,
   "metadata": {},
   "outputs": [
    {
     "data": {
      "image/png": "[encoded data removed]",
      "text/plain": [
       "<matplotlib.figure.Figure at 0x1a38d51470>"
      ]
     },
     "metadata": {
      "image/png": {
       "height": 422,
       "width": 856
      }
     },
     "output_type": "display_data"
    }
   ],
   "source": [
    "# fd = pd.Series(sf.feature_importance,index=sf.X_train_last.columns)\n",
    "F.plot_feature_importance(sf.feature_importance,show_n=30)"
   ]
  },
  {
   "cell_type": "code",
   "execution_count": 45,
   "metadata": {
    "scrolled": false
   },
   "outputs": [
    {
     "data": {
      "text/plain": [
       "host_response_time_within an hour                  9.501505e-02\n",
       "calculated_host_listings_count                     5.202767e-02\n",
       "room_type_Entire home/apt                          4.704356e-02\n",
       "review_scores_rating                               3.489566e-02\n",
       "host_response_time_within a few hours              3.192694e-02\n",
       "price_per_bed                                      2.162296e-02\n",
       "instant_bookable                                   2.002655e-02\n",
       "price                                              1.630639e-02\n",
       "cleaning_fee                                       1.552878e-02\n",
       "diff_price_per_bedroom_hood                        1.155758e-02\n",
       "price_per_bedroom                                  1.110321e-02\n",
       "month_scraped_12                                   1.008641e-02\n",
       "len_transit                                        1.006380e-02\n",
       "holiday_Christmas Day                              9.426404e-03\n",
       "total_hosting_days                                 9.305400e-03\n",
       "holiday_Martin Luther King, Jr. Day                9.050427e-03\n",
       "diff_price_per_bedroom_hood_month                  8.459494e-03\n",
       "extra_people                                       8.111815e-03\n",
       "longitude                                          8.037890e-03\n",
       "month_scraped_1                                    7.194902e-03\n",
       "host_is_superhost                                  6.678492e-03\n",
       "len_description                                    5.904072e-03\n",
       "month_scraped_11                                   5.897633e-03\n",
       "distance                                           5.762649e-03\n",
       "minimum_nights                                     5.319869e-03\n",
       "latitude                                           5.207443e-03\n",
       "room_type_Private room                             5.031577e-03\n",
       "len_access                                         4.911830e-03\n",
       "holiday_Veterans Day (Observed)                    4.406694e-03\n",
       "holiday_Susan B. Anthony Day                       3.687633e-03\n",
       "len_house_rules                                    3.562398e-03\n",
       "host_response_time_within a day                    3.453207e-03\n",
       "month_scraped_2                                    3.052278e-03\n",
       "cancellation_policy_moderate                       1.602723e-03\n",
       "maximum_nights                                     1.512031e-03\n",
       "property_type_House                                1.436058e-03\n",
       "neighbourhood_cleansed_Nob Hill                    1.252213e-03\n",
       "month_scraped_8                                    1.249990e-03\n",
       "cancellation_policy_strict                         1.079346e-03\n",
       "property_type_Apartment                            6.565414e-04\n",
       "holiday_Memorial Day                               6.471680e-04\n",
       "neighbourhood_cleansed_South of Market             6.103698e-04\n",
       "month_scraped_6                                    5.105267e-04\n",
       "month_scraped_5                                    4.740409e-04\n",
       "cancellation_policy_flexible                       4.508048e-04\n",
       "month_scraped_10                                   4.503354e-04\n",
       "beds                                               4.161073e-04\n",
       "month_scraped_9                                    3.392500e-04\n",
       "neighbourhood_cleansed_Western Addition            3.291247e-04\n",
       "neighbourhood_cleansed_Mission                     3.236774e-04\n",
       "holiday_Labor Day                                  2.920473e-04\n",
       "neighbourhood_cleansed_Downtown/Civic Center       2.904083e-04\n",
       "room_type_Shared room                              2.865732e-04\n",
       "year_scraped_2017                                  2.797198e-04\n",
       "neighbourhood_cleansed_Noe Valley                  2.536294e-04\n",
       "neighbourhood_cleansed_West of Twin Peaks          2.422975e-04\n",
       "holiday_No_holiday                                 1.971572e-04\n",
       "host_identity_verified                             1.956912e-04\n",
       "holiday_Columbus Day                               1.908587e-04\n",
       "bedrooms                                           1.895624e-04\n",
       "neighbourhood_cleansed_Outer Sunset                1.779203e-04\n",
       "year_scraped_2018                                  1.717657e-04\n",
       "property_type_Guest suite                          1.505115e-04\n",
       "neighbourhood_cleansed_Castro/Upper Market         1.422163e-04\n",
       "month_scraped_7                                    1.254129e-04\n",
       "neighbourhood_cleansed_Outer Mission               1.162417e-04\n",
       "host_response_time_unclear                         1.114987e-04\n",
       "month_scraped_3                                    1.104761e-04\n",
       "neighbourhood_cleansed_Chinatown                   5.901443e-05\n",
       "neighbourhood_cleansed_Twin Peaks                  5.260264e-05\n",
       "neighbourhood_cleansed_Potrero Hill                4.338518e-05\n",
       "month_scraped_4                                    3.850691e-05\n",
       "neighbourhood_cleansed_Crocker Amazon              3.768962e-05\n",
       "neighbourhood_cleansed_Ocean View                  3.657031e-05\n",
       "neighbourhood_cleansed_Inner Sunset                3.508926e-05\n",
       "host_response_time_a few days or more              2.352992e-05\n",
       "neighbourhood_cleansed_Russian Hill                1.947958e-05\n",
       "property_type_Loft                                 1.804855e-05\n",
       "cancellation_policy_strict_14_with_grace_period    1.534464e-05\n",
       "neighbourhood_cleansed_Financial District          1.250572e-05\n",
       "neighbourhood_cleansed_Treasure Island/YBI         5.744929e-06\n",
       "neighbourhood_cleansed_Presidio                    0.000000e+00\n",
       "cancellation_policy_super_strict_60                0.000000e+00\n",
       "neighbourhood_cleansed_Golden Gate Park            0.000000e+00\n",
       "neighbourhood_cleansed_Seacliff                   -3.210392e-07\n",
       "neighbourhood_cleansed_Parkside                   -1.317445e-06\n",
       "neighbourhood_cleansed_Lakeshore                  -1.649540e-06\n",
       "property_type_Other                               -1.878893e-06\n",
       "neighbourhood_cleansed_Pacific Heights            -5.966641e-06\n",
       "holiday_Independence Day                          -8.180719e-06\n",
       "neighbourhood_cleansed_Visitacion Valley          -8.776765e-06\n",
       "neighbourhood_cleansed_Haight Ashbury             -1.006388e-05\n",
       "neighbourhood_cleansed_Presidio Heights           -1.029682e-05\n",
       "neighbourhood_cleansed_Marina                     -3.161456e-05\n",
       "neighbourhood_cleansed_Bayview                    -3.391557e-05\n",
       "neighbourhood_cleansed_Excelsior                  -5.789953e-05\n",
       "neighbourhood_cleansed_Diamond Heights            -6.681663e-05\n",
       "neighbourhood_cleansed_North Beach                -9.267300e-05\n",
       "neighbourhood_cleansed_Glen Park                  -9.974226e-05\n",
       "neighbourhood_cleansed_Bernal Heights             -1.183988e-04\n",
       "neighbourhood_cleansed_Outer Richmond             -1.221705e-04\n",
       "property_type_others                              -1.901506e-04\n",
       "neighbourhood_cleansed_Inner Richmond             -2.351511e-04\n",
       "holiday_César Chávez Day                          -2.370380e-04\n",
       "property_type_Condominium                         -5.442102e-04\n",
       "dtype: float64"
      ]
     },
     "execution_count": 45,
     "metadata": {},
     "output_type": "execute_result"
    }
   ],
   "source": [
    "sf.feature_importance.sort_values(ascending=False)"
   ]
  },
  {
   "cell_type": "code",
   "execution_count": null,
   "metadata": {},
   "outputs": [],
   "source": []
  },
  {
   "cell_type": "code",
   "execution_count": null,
   "metadata": {},
   "outputs": [],
   "source": []
  },
  {
   "cell_type": "code",
   "execution_count": null,
   "metadata": {},
   "outputs": [],
   "source": [
    "sf.X_test_last.head()"
   ]
  },
  {
   "cell_type": "code",
   "execution_count": null,
   "metadata": {},
   "outputs": [],
   "source": [
    "listings_used['Occupancy_level_1st_month'] = pd.cut(listings_used.availability_30,\n",
    "                                           bins=[0,10,20,31],labels=['low','medium','high'], right=False)\n",
    "df_low = listings_used[listings_used['Occupancy_level_1st_month'] == 'low']\n",
    "df_medium = listings_used[listings_used['Occupancy_level_1st_month'] == 'medium']\n",
    "df_high = listings_used[listings_used['Occupancy_level_1st_month'] == 'high']"
   ]
  },
  {
   "cell_type": "code",
   "execution_count": null,
   "metadata": {},
   "outputs": [],
   "source": [
    "def create_data_source(data_frame):\n",
    "    return ColumnDataSource(\n",
    "        data=dict(\n",
    "        price = data_frame['price'],\n",
    "        bedrooms=data_frame['bedrooms'],\n",
    "        room_type=data_frame['room_type'],\n",
    "        property_type=data_frame['property_type'],\n",
    "        neighbourhood_cleansed=data_frame['neighbourhood_cleansed'],\n",
    "        availability_30 = data_frame['availability_30'],\n",
    "        lat=data_frame['latitude'],\n",
    "        lon=data_frame['longitude'],\n",
    "        ))"
   ]
  },
  {
   "cell_type": "code",
   "execution_count": null,
   "metadata": {},
   "outputs": [],
   "source": [
    "from bokeh.plotting import ColumnDataSource,output_file, gmap\n",
    "from bokeh.models import (HoverTool,GMapPlot,GMapOptions,glyphs)\n",
    "from bokeh.io import show, output_notebook\n",
    "output_notebook()"
   ]
  },
  {
   "cell_type": "code",
   "execution_count": null,
   "metadata": {},
   "outputs": [],
   "source": [
    "map_options = GMapOptions(lat=37.762835, lng=-122.434239, map_type=\"roadmap\", zoom=12)\n",
    "plot = gmap(\"keys\", map_options,\n",
    "            title=\"Next 30 days availability: Blue - Low | Magenta - Medium | Red - High \")\n",
    "for df, color in zip([df_low, df_medium, df_high], ['blue','green','red']):\n",
    "    source = create_data_source(df)\n",
    "    circle_m = glyphs.Circle(x=\"lon\", y=\"lat\",size=3, line_color=color, fill_color=color,line_alpha=0.1, fill_alpha=0.1)\n",
    "    cpm = plot.add_glyph(source,circle_m)\n",
    "\n",
    "plot.add_tools(HoverTool(tooltips = [('price', '@price'),\n",
    "                                     ('bedrooms','@bedrooms'),\n",
    "                                     ('room_type','@room_type'),\n",
    "                                     ('property_type','@property_type'),\n",
    "                                     ('neighbourhood_cleansed','@neighbourhood_cleansed'),\n",
    "                                     ('availability 30 days','@availability_30'),\n",
    "                                     ]))\n",
    "show(plot)"
   ]
  },
  {
   "cell_type": "code",
   "execution_count": null,
   "metadata": {},
   "outputs": [],
   "source": [
    "listings.head(1)"
   ]
  },
  {
   "cell_type": "code",
   "execution_count": null,
   "metadata": {},
   "outputs": [],
   "source": [
    "listings_used.shape"
   ]
  },
  {
   "cell_type": "code",
   "execution_count": null,
   "metadata": {},
   "outputs": [],
   "source": [
    "listings_final = listings_used.copy()\n",
    "listings_final = listings_final.reset_index()"
   ]
  },
  {
   "cell_type": "code",
   "execution_count": null,
   "metadata": {},
   "outputs": [],
   "source": [
    "# Clean price label: remove the dollar sign and comma.\n",
    "listings_final.price=listings_final.price.str.replace(r'[$,]','').astype(float)\n",
    "listings_final.cleaning_fee=listings_final.cleaning_fee.str.replace(r'[$,]','').astype(float)\n",
    "listings_final.extra_people=listings_final.extra_people.str.replace(r'[$,]','').astype(float)"
   ]
  },
  {
   "cell_type": "code",
   "execution_count": null,
   "metadata": {},
   "outputs": [],
   "source": [
    "# Convert 0 bed and 0 bedrooms to 1.\n",
    "listings_final.loc[listings_final['bedrooms']==0,'bedrooms'] = 1\n",
    "listings_final.loc[listings_final['beds']==0,'beds'] = 1"
   ]
  },
  {
   "cell_type": "code",
   "execution_count": null,
   "metadata": {},
   "outputs": [],
   "source": [
    "# transform t/f column to 1 and 0\n",
    "columns_t_f = ['host_is_superhost','instant_bookable',\n",
    "               'host_identity_verified',\n",
    "               'require_guest_phone_verification']\n",
    "listings_final[columns_t_f] = listings_final[columns_t_f].replace({'f':0,'t':1})"
   ]
  },
  {
   "cell_type": "code",
   "execution_count": null,
   "metadata": {},
   "outputs": [],
   "source": [
    "# deal with nan\n",
    "listings_final.bedrooms = listings_final.bedrooms.fillna(1)\n",
    "listings_final.cleaning_fee = listings_final.cleaning_fee.fillna(0)\n",
    "listings_final.reviews_per_month = listings_final.reviews_per_month.fillna(0)\n",
    "listings_final.review_scores_rating = listings_final.review_scores_rating.fillna(0)\n",
    "listings_final.beds = listings_final.beds.fillna(1)\n",
    "listings_final.host_response_time = listings_final.host_response_time.fillna('unclear')\n",
    "listings_final.host_is_superhost = listings_final.host_is_superhost.fillna(0)\n",
    "listings_final.host_identity_verified = listings_final.host_identity_verified.fillna(0)"
   ]
  },
  {
   "cell_type": "code",
   "execution_count": null,
   "metadata": {},
   "outputs": [],
   "source": [
    "# Feature engineering - month, year\n",
    "listings_final['month_scraped'] =  listings_final['last_scraped'].dt.month.astype(str)\n",
    "listings_final['year_scraped'] =  listings_final['last_scraped'].dt.year.astype(str)"
   ]
  },
  {
   "cell_type": "code",
   "execution_count": null,
   "metadata": {},
   "outputs": [],
   "source": [
    "# Feature engineering - total_hosting_days, price_per_bedroom, price_per_bed\n",
    "listings_final['total_hosting_days']=listings_final['last_scraped'] - listings_final['host_since']\n",
    "listings_final['total_hosting_days']=listings_final['total_hosting_days'].apply(lambda row: row.days)\n",
    "listings_final.total_hosting_days = listings_final.total_hosting_days.fillna(0)\n",
    "listings_final['price_per_bedroom']=listings_final['price']/listings_final['bedrooms']\n",
    "listings_final['price_per_bed']=listings_final['price']/listings_final['beds']"
   ]
  },
  {
   "cell_type": "code",
   "execution_count": null,
   "metadata": {},
   "outputs": [],
   "source": [
    "# Feature engineering - Add the number of words of house rules, access, transit, description\n",
    "# len_house_rules, len_access, len_transit, len_description\n",
    "listings_final['len_house_rules'] = listings_final['house_rules'].astype(str).apply(lambda x: len(x.split(' ')))\n",
    "listings_final['len_description'] = listings_final['description'].astype(str).apply(lambda x: len(x.split(' ')))\n",
    "listings_final['len_access'] = listings_final['access'].astype(str).apply(lambda x: len(x.split(' ')))\n",
    "listings_final['len_transit'] = listings_final['transit'].astype(str).apply(lambda x: len(x.split(' ')))"
   ]
  },
  {
   "cell_type": "code",
   "execution_count": null,
   "metadata": {},
   "outputs": [],
   "source": [
    "# Feature engineering - Check if the predicted month includes any national holidays, add the name of the holiday if so.\n",
    "holidays = pd.read_csv('holidays.csv', header=None)\n",
    "holidays.columns=['date','holidays']\n",
    "holidays.date = pd.to_datetime(holidays.date)\n",
    "\n",
    "listings_final['holiday'] = listings_final['last_scraped'].apply(\n",
    "    lambda x: F.add_holidays(x, holidays))"
   ]
  },
  {
   "cell_type": "code",
   "execution_count": null,
   "metadata": {},
   "outputs": [],
   "source": []
  },
  {
   "cell_type": "code",
   "execution_count": null,
   "metadata": {},
   "outputs": [],
   "source": [
    "X_train, X_test, y_train, y_test = F.my_train_test_split(listings_final, 0.7)\n",
    "print(X_train.shape,y_train.shape)\n",
    "print(X_test.shape,y_test.shape)"
   ]
  },
  {
   "cell_type": "code",
   "execution_count": null,
   "metadata": {},
   "outputs": [],
   "source": [
    "#Feature engineering - price_per_bedroom subtract its neighbourhood mean\n",
    "price_per_bedroom = F.PricePerBedroom()\n",
    "price_per_bedroom.fit(X_train)\n",
    "X_train = price_per_bedroom.transform(X_train)\n",
    "X_test = price_per_bedroom.transform(X_test)"
   ]
  },
  {
   "cell_type": "code",
   "execution_count": null,
   "metadata": {},
   "outputs": [],
   "source": [
    "X_train.drop(['last_review','Occupancy_level_1st_month',\n",
    "                     'availability_60','last30','last60', 'last90',\n",
    "                     'last120','last180','last_scraped','host_since','number_of_reviews',\n",
    "                     'reviews_per_month','notes','access','index',\n",
    "                     'house_rules','description','transit'], axis=1, inplace=True)\n",
    "X_test.drop(['last_review','Occupancy_level_1st_month',\n",
    "                     'availability_60','last30','last60', 'last90',\n",
    "                     'last120','last180','last_scraped','host_since','number_of_reviews',\n",
    "                     'reviews_per_month','notes','access','index',\n",
    "                     'house_rules','description','transit'], axis=1, inplace=True)"
   ]
  },
  {
   "cell_type": "code",
   "execution_count": null,
   "metadata": {},
   "outputs": [],
   "source": [
    "report_nan(X_train).iloc[:5,:]"
   ]
  },
  {
   "cell_type": "code",
   "execution_count": null,
   "metadata": {},
   "outputs": [],
   "source": []
  },
  {
   "cell_type": "code",
   "execution_count": null,
   "metadata": {},
   "outputs": [],
   "source": []
  },
  {
   "cell_type": "code",
   "execution_count": null,
   "metadata": {},
   "outputs": [],
   "source": []
  },
  {
   "cell_type": "code",
   "execution_count": null,
   "metadata": {},
   "outputs": [],
   "source": []
  },
  {
   "cell_type": "code",
   "execution_count": null,
   "metadata": {},
   "outputs": [],
   "source": []
  },
  {
   "cell_type": "code",
   "execution_count": null,
   "metadata": {},
   "outputs": [],
   "source": []
  },
  {
   "cell_type": "code",
   "execution_count": null,
   "metadata": {},
   "outputs": [],
   "source": [
    "def build_text_vectorizer(contents, use_tfidf=True, use_stemmer=False, max_features=None):\n",
    "    '''\n",
    "    Build and return a **callable** for transforming text documents to vectors,\n",
    "    as well as a vocabulary to map document-vector indices to words from the\n",
    "    corpus. The vectorizer will be trained from the text documents in the\n",
    "    `contents` argument. If `use_tfidf` is True, then the vectorizer will use\n",
    "    the Tf-Idf algorithm, otherwise a Bag-of-Words vectorizer will be used.\n",
    "    The text will be tokenized by words, and each word will be stemmed if\n",
    "    `use_stemmer` is True. If `max_features` is not None, then the vocabulary\n",
    "    will be limited to the `max_features` most common words in the corpus.\n",
    "    '''\n",
    "    Vectorizer = TfidfVectorizer if use_tfidf else CountVectorizer\n",
    "    tokenizer = RegexpTokenizer(r\"[\\w']+\")\n",
    "    stem = PorterStemmer().stem if use_stemmer else (lambda x: x)\n",
    "    stop_set = set(stopwords.words('english'))\n",
    "\n",
    "    # Closure over the tokenizer et al.\n",
    "    def tokenize(text):\n",
    "        tokens = tokenizer.tokenize(text)\n",
    "        stems = [stem(token) for token in tokens if token not in stop_set]\n",
    "        return stems\n",
    "\n",
    "    vectorizer_model = Vectorizer(tokenizer=tokenize, max_features=max_features)\n",
    "    vectorizer_model.fit(contents)\n",
    "    vocabulary = np.array(vectorizer_model.get_feature_names())\n",
    "\n",
    "    # Closure over the vectorizer_model's transform method.\n",
    "    def vectorizer(X):\n",
    "        return vectorizer_model.transform(X).toarray()\n",
    "\n",
    "    return vectorizer, vocabulary\n"
   ]
  },
  {
   "cell_type": "code",
   "execution_count": null,
   "metadata": {},
   "outputs": [],
   "source": [
    "def hand_label_topics(H, vocabulary, prob_w, series):\n",
    "    '''\n",
    "    Print the most influential words of each latent topic, and prompt the user\n",
    "    to label each topic. The user should use their humanness to figure out what\n",
    "    each latent topic is capturing.\n",
    "    '''\n",
    "    hand_labels = []\n",
    "    for i, row in enumerate(H):\n",
    "        idx = np.argsort(prob_w[:,i])[::-1][:3]\n",
    "        for k in idx:\n",
    "            print('Example id:{}: {}'.format(k, series[k]))   \n",
    "        print()\n",
    "        top_five = np.argsort(row)[::-1][:20]\n",
    "        print('topic', i)\n",
    "        print('-->', ' '.join(vocabulary[top_five]))\n",
    "        label = input('please label this topic: ')\n",
    "        hand_labels.append(label)\n",
    "        print()\n",
    "    return hand_labels"
   ]
  },
  {
   "cell_type": "code",
   "execution_count": null,
   "metadata": {},
   "outputs": [],
   "source": [
    "# def analyze_article(index, series, W, hand_labels):\n",
    "#     '''\n",
    "#     Print an analysis of a single NYT articles, including the article text\n",
    "#     and a summary of which topics it represents. The topics are identified\n",
    "#     via the hand-labels which were assigned by the user.\n",
    "#     '''\n",
    "#     print(series[index])\n",
    "#     probs = softmax(W[index], temperature=0.01)\n",
    "#     for prob, label in zip(probs, hand_labels):\n",
    "#         print('--> {:.2f}% {}'.format(prob * 100, label))\n",
    "#     print()"
   ]
  },
  {
   "cell_type": "code",
   "execution_count": null,
   "metadata": {},
   "outputs": [],
   "source": [
    "def softmax(v, temperature=1.0):\n",
    "    '''\n",
    "    A heuristic to convert arbitrary positive values into probabilities.\n",
    "    See: https://en.wikipedia.org/wiki/Softmax_function\n",
    "    '''\n",
    "    expv = np.exp(v / temperature)\n",
    "    print(expv.shape)\n",
    "    s = np.sum(expv, axis=1)\n",
    "    print(s.shape)\n",
    "    return expv / s[:,None]"
   ]
  },
  {
   "cell_type": "code",
   "execution_count": null,
   "metadata": {},
   "outputs": [],
   "source": [
    "def deal_text_features(series, n_components):\n",
    "    series = listings_final.notes.fillna('unknown')\n",
    "    vectorizer, vocabulary = build_text_vectorizer(series,\n",
    "                                 use_tfidf=True,\n",
    "                                 use_stemmer=True,\n",
    "                                 max_features=None)\n",
    "    X = vectorizer(series)\n",
    "    nmf = NMF_sklearn(n_components=n_components, max_iter=100, alpha=0.0)\n",
    "    W = nmf.fit_transform(X)\n",
    "    H = nmf.components_\n",
    "    prob_w = softmax(W, temperature=0.01)\n",
    "    hand_labels = hand_label_topics(H, vocabulary, prob_w, series)\n",
    "    return pd.DataFrame(W,columns=[hand_labels])"
   ]
  },
  {
   "cell_type": "code",
   "execution_count": null,
   "metadata": {},
   "outputs": [],
   "source": [
    "class text:\n",
    "    def __init__(self, series, n_components):\n",
    "        \n",
    "        self.series = series.copy()\n",
    "        \n",
    "    "
   ]
  },
  {
   "cell_type": "code",
   "execution_count": null,
   "metadata": {},
   "outputs": [],
   "source": []
  },
  {
   "cell_type": "code",
   "execution_count": null,
   "metadata": {},
   "outputs": [],
   "source": [
    "df_notes.iloc[:,2].max()"
   ]
  },
  {
   "cell_type": "code",
   "execution_count": null,
   "metadata": {},
   "outputs": [],
   "source": [
    "df_notes.iloc[np.argsort(df_notes.iloc[:,2])[:-10:-1],2]"
   ]
  },
  {
   "cell_type": "code",
   "execution_count": null,
   "metadata": {},
   "outputs": [],
   "source": [
    "softmax(df_notes.values, temperature=0.01)"
   ]
  },
  {
   "cell_type": "code",
   "execution_count": null,
   "metadata": {},
   "outputs": [],
   "source": [
    "df_notes = deal_text_features(sf.cleaned_data.notes.sample(100), 5)"
   ]
  },
  {
   "cell_type": "code",
   "execution_count": null,
   "metadata": {},
   "outputs": [],
   "source": [
    "listings_final.shape"
   ]
  },
  {
   "cell_type": "code",
   "execution_count": null,
   "metadata": {},
   "outputs": [],
   "source": [
    "df_notes.head()"
   ]
  },
  {
   "cell_type": "code",
   "execution_count": null,
   "metadata": {},
   "outputs": [],
   "source": [
    "temp = listings_final.reset_index()"
   ]
  },
  {
   "cell_type": "code",
   "execution_count": null,
   "metadata": {},
   "outputs": [],
   "source": [
    "listings_final = pd.concat([temp,df_notes], axis=1)"
   ]
  },
  {
   "cell_type": "code",
   "execution_count": null,
   "metadata": {},
   "outputs": [],
   "source": [
    "listings_final.shape"
   ]
  },
  {
   "cell_type": "code",
   "execution_count": null,
   "metadata": {},
   "outputs": [],
   "source": [
    "listings_final.head(1)"
   ]
  },
  {
   "cell_type": "code",
   "execution_count": null,
   "metadata": {},
   "outputs": [],
   "source": [
    "\n"
   ]
  },
  {
   "cell_type": "code",
   "execution_count": null,
   "metadata": {},
   "outputs": [],
   "source": [
    "listings_final.drop(['last_review','Occupancy_level_1st_month',\n",
    "                     'availability_60','last30','last60', 'last90',\n",
    "                     'last120','last180','last_scraped','host_since','number_of_reviews',\n",
    "                     'reviews_per_month','notes','access','index',\n",
    "                     'house_rules','description','transit'], axis=1, inplace=True)"
   ]
  },
  {
   "cell_type": "code",
   "execution_count": null,
   "metadata": {},
   "outputs": [],
   "source": [
    "report_nan(listings_final).iloc[:10,:]"
   ]
  },
  {
   "cell_type": "code",
   "execution_count": null,
   "metadata": {},
   "outputs": [],
   "source": [
    "listings_final.dropna(inplace=True)"
   ]
  },
  {
   "cell_type": "code",
   "execution_count": null,
   "metadata": {},
   "outputs": [],
   "source": [
    "report_nan(listings_final).iloc[:10,:]"
   ]
  },
  {
   "cell_type": "code",
   "execution_count": null,
   "metadata": {},
   "outputs": [],
   "source": [
    "# dummify categorical variables\n",
    "listings_final = pd.get_dummies(listings_final)"
   ]
  },
  {
   "cell_type": "code",
   "execution_count": null,
   "metadata": {},
   "outputs": [],
   "source": []
  },
  {
   "cell_type": "code",
   "execution_count": null,
   "metadata": {},
   "outputs": [],
   "source": [
    "# Creat label\n",
    "# y = listings_final.pop('availability_30')"
   ]
  },
  {
   "cell_type": "code",
   "execution_count": null,
   "metadata": {},
   "outputs": [],
   "source": [
    "X_train, X_test, y_train, y_test = my_train_test_split(listings_final, 0.6)"
   ]
  },
  {
   "cell_type": "code",
   "execution_count": null,
   "metadata": {},
   "outputs": [],
   "source": [
    "X_train.head()"
   ]
  },
  {
   "cell_type": "code",
   "execution_count": null,
   "metadata": {},
   "outputs": [],
   "source": [
    "# from sklearn.model_selection import train_test_split\n",
    "# X_train, X_test, y_train, y_test = train_test_split(X, y, test_size=0.33)"
   ]
  },
  {
   "cell_type": "code",
   "execution_count": null,
   "metadata": {},
   "outputs": [],
   "source": [
    "from sklearn.ensemble import RandomForestRegressor\n",
    "from sklearn.metrics import mean_absolute_error, mean_squared_error, mean_squared_log_error\n",
    "# from sklearn.model_selection import cross_val_score"
   ]
  },
  {
   "cell_type": "code",
   "execution_count": null,
   "metadata": {},
   "outputs": [],
   "source": [
    "rf = RandomForestRegressor(n_estimators=50)\n",
    "m = rf.fit(X_train,np.log(y_train+1))\n",
    "y_pred = np.clip(np.exp(m.predict(X_test))-1, 0, 30)"
   ]
  },
  {
   "cell_type": "code",
   "execution_count": null,
   "metadata": {},
   "outputs": [],
   "source": [
    "print(mean_absolute_error(y_test, y_pred))\n",
    "print(mean_squared_log_error(y_test, y_pred))\n",
    "print(mean_squared_error(y_test, y_pred))"
   ]
  },
  {
   "cell_type": "code",
   "execution_count": null,
   "metadata": {},
   "outputs": [],
   "source": [
    "rf = RandomForestRegressor(n_estimators=50)\n",
    "m = rf.fit(X_train,y_train)\n",
    "y_pred = np.clip(np.round(m.predict(X_test)), 0, 30)"
   ]
  },
  {
   "cell_type": "code",
   "execution_count": null,
   "metadata": {},
   "outputs": [],
   "source": [
    "print(mean_absolute_error(y_test, y_pred))\n",
    "print(mean_squared_log_error(y_test, y_pred))\n",
    "print(mean_squared_error(y_test, y_pred))"
   ]
  },
  {
   "cell_type": "markdown",
   "metadata": {},
   "source": [
    "`4.41679890234\n",
    "0.200529915513\n",
    "32.0959029175`\n",
    "\n",
    "`4.35370179654\n",
    "0.21774572576\n",
    "30.2024259069`"
   ]
  },
  {
   "cell_type": "code",
   "execution_count": null,
   "metadata": {},
   "outputs": [],
   "source": [
    "plt.scatter(y_test, abs(y_pred-y_test), alpha=0.05)"
   ]
  },
  {
   "cell_type": "code",
   "execution_count": null,
   "metadata": {
    "scrolled": true
   },
   "outputs": [],
   "source": [
    "result = pd.DataFrame(y_pred, y_test).reset_index()\n",
    "result.columns=['y_test','y_pred']\n",
    "result = result.sort_values(by='y_test')\n",
    "result.head(50)"
   ]
  },
  {
   "cell_type": "code",
   "execution_count": null,
   "metadata": {},
   "outputs": [],
   "source": [
    "result.corr()"
   ]
  },
  {
   "cell_type": "code",
   "execution_count": null,
   "metadata": {},
   "outputs": [],
   "source": [
    "X = listings_final.copy()\n",
    "y = X.pop('availability_30')"
   ]
  },
  {
   "cell_type": "code",
   "execution_count": null,
   "metadata": {},
   "outputs": [],
   "source": [
    "neg_mae = lambda y1, y2: -mean_squared_log_error(y1, y2)\n",
    "feature_importance = plot_myRf_feature_importance(X.values, y.values,scorer=neg_mae,\n",
    "                                                   col_names=X.columns.tolist(),n_trees=50, show_n=30);"
   ]
  },
  {
   "cell_type": "code",
   "execution_count": null,
   "metadata": {
    "scrolled": false
   },
   "outputs": [],
   "source": [
    "feature_importance.iloc[:]"
   ]
  },
  {
   "cell_type": "code",
   "execution_count": null,
   "metadata": {},
   "outputs": [],
   "source": [
    "X.shape"
   ]
  },
  {
   "cell_type": "code",
   "execution_count": null,
   "metadata": {},
   "outputs": [],
   "source": [
    "df_corr = X.corr()"
   ]
  },
  {
   "cell_type": "code",
   "execution_count": null,
   "metadata": {},
   "outputs": [],
   "source": [
    "show_corr('price_per_bedroom', df_corr, X, nb=10)"
   ]
  },
  {
   "cell_type": "code",
   "execution_count": null,
   "metadata": {},
   "outputs": [],
   "source": [
    "X.head()"
   ]
  },
  {
   "cell_type": "code",
   "execution_count": null,
   "metadata": {},
   "outputs": [],
   "source": []
  }
 ],
 "metadata": {
  "kernelspec": {
   "display_name": "Python 3",
   "language": "python",
   "name": "python3"
  },
  "language_info": {
   "codemirror_mode": {
    "name": "ipython",
    "version": 3
   },
   "file_extension": ".py",
   "mimetype": "text/x-python",
   "name": "python",
   "nbconvert_exporter": "python",
   "pygments_lexer": "ipython3",
   "version": "3.6.4"
  }
 },
 "nbformat": 4,
 "nbformat_minor": 2
}
